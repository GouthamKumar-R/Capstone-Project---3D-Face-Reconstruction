{
 "cells": [
  {
   "cell_type": "markdown",
   "metadata": {
    "toc": true
   },
   "source": [
    "<h1>Table of Contents<span class=\"tocSkip\"></span></h1>\n",
    "<div class=\"toc\"><ul class=\"toc-item\"></ul></div>"
   ]
  },
  {
   "cell_type": "code",
   "execution_count": null,
   "metadata": {},
   "outputs": [],
   "source": [
    "print('start rigid fitting')\n",
    "\trigid_optimizer = torch.optim.Adam([rot_tensor, trans_tensor], lr=0.01)\n",
    "\tfor i in range(300):\n",
    "\t\trigid_optimizer.zero_grad()\n",
    "\t\tcoeff = torch.cat([id_tensor, exp_tensor,\n",
    "\t\t\t\t\t\ttex_tensor, rot_tensor,\n",
    "\t\t\t\t\t\tgamma_tensor, trans_tensor], dim=1)\n",
    "\t\t_, pred_lms, _, _ = model(coeff)\n",
    "\t\tlm_loss_val = lm_loss(pred_lms, lms, img_size=TAR_SIZE)\n",
    "\t\tlm_loss_val.backward()\n",
    "\t\trigid_optimizer.step()"
   ]
  }
 ],
 "metadata": {
  "kernelspec": {
   "display_name": "Python 3",
   "language": "python",
   "name": "python3"
  },
  "language_info": {
   "codemirror_mode": {
    "name": "ipython",
    "version": 3
   },
   "file_extension": ".py",
   "mimetype": "text/x-python",
   "name": "python",
   "nbconvert_exporter": "python",
   "pygments_lexer": "ipython3",
   "version": "3.8.3"
  },
  "toc": {
   "base_numbering": 1,
   "nav_menu": {},
   "number_sections": true,
   "sideBar": true,
   "skip_h1_title": true,
   "title_cell": "Table of Contents",
   "title_sidebar": "Contents",
   "toc_cell": true,
   "toc_position": {},
   "toc_section_display": true,
   "toc_window_display": true
  }
 },
 "nbformat": 4,
 "nbformat_minor": 4
}
