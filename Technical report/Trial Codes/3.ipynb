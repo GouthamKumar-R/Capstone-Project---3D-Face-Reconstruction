{
 "cells": [
  {
   "cell_type": "markdown",
   "metadata": {
    "toc": true
   },
   "source": [
    "<h1>Table of Contents<span class=\"tocSkip\"></span></h1>\n",
    "<div class=\"toc\"><ul class=\"toc-item\"></ul></div>"
   ]
  },
  {
   "cell_type": "code",
   "execution_count": 1,
   "metadata": {},
   "outputs": [],
   "source": [
    "%matplotlib notebook\n"
   ]
  },
  {
   "cell_type": "code",
   "execution_count": 2,
   "metadata": {},
   "outputs": [],
   "source": [
    "import scipy.io\n",
    "import numpy as np\n",
    "import matplotlib.pyplot as plt\n",
    "from mpl_toolkits.mplot3d import Axes3D\n",
    "import time\n",
    "import pandas as pd\n",
    "import os"
   ]
  },
  {
   "cell_type": "code",
   "execution_count": 3,
   "metadata": {},
   "outputs": [
    {
     "name": "stdout",
     "output_type": "stream",
     "text": [
      "C:\\Users\\Thinkpad-E470\\Downloads\\titanic\\Capstone\\001__001-010_0.mat\n",
      "C:\\Users\\Thinkpad-E470\\Downloads\\titanic\\Capstone\\001__001-011_0.mat\n",
      "C:\\Users\\Thinkpad-E470\\Downloads\\titanic\\Capstone\\001__001-012_0.mat\n",
      "C:\\Users\\Thinkpad-E470\\Downloads\\titanic\\Capstone\\001__001-013_0.mat\n",
      "C:\\Users\\Thinkpad-E470\\Downloads\\titanic\\Capstone\\001__001-015_0.mat\n",
      "C:\\Users\\Thinkpad-E470\\Downloads\\titanic\\Capstone\\001__001-016_0.mat\n",
      "C:\\Users\\Thinkpad-E470\\Downloads\\titanic\\Capstone\\001__001-017_0.mat\n",
      "C:\\Users\\Thinkpad-E470\\Downloads\\titanic\\Capstone\\001__001-020_0.mat\n",
      "C:\\Users\\Thinkpad-E470\\Downloads\\titanic\\Capstone\\001__001-023_0.mat\n",
      "C:\\Users\\Thinkpad-E470\\Downloads\\titanic\\Capstone\\001__001-024_0.mat\n",
      "C:\\Users\\Thinkpad-E470\\Downloads\\titanic\\Capstone\\001__001-027_0.mat\n",
      "C:\\Users\\Thinkpad-E470\\Downloads\\titanic\\Capstone\\001__001-034_0.mat\n",
      "C:\\Users\\Thinkpad-E470\\Downloads\\titanic\\Capstone\\001__001-035_0.mat\n",
      "C:\\Users\\Thinkpad-E470\\Downloads\\titanic\\Capstone\\002__002-001_0.mat\n",
      "C:\\Users\\Thinkpad-E470\\Downloads\\titanic\\Capstone\\002__002-002_0.mat\n",
      "C:\\Users\\Thinkpad-E470\\Downloads\\titanic\\Capstone\\002__002-003_0.mat\n",
      "C:\\Users\\Thinkpad-E470\\Downloads\\titanic\\Capstone\\002__002-004_0.mat\n",
      "C:\\Users\\Thinkpad-E470\\Downloads\\titanic\\Capstone\\002__002-005_0.mat\n",
      "C:\\Users\\Thinkpad-E470\\Downloads\\titanic\\Capstone\\002__002-006_0.mat\n",
      "C:\\Users\\Thinkpad-E470\\Downloads\\titanic\\Capstone\\002__002-007_0.mat\n",
      "C:\\Users\\Thinkpad-E470\\Downloads\\titanic\\Capstone\\002__002-008_0.mat\n",
      "C:\\Users\\Thinkpad-E470\\Downloads\\titanic\\Capstone\\002__002-009_0.mat\n",
      "C:\\Users\\Thinkpad-E470\\Downloads\\titanic\\Capstone\\002__002-010_0.mat\n"
     ]
    }
   ],
   "source": [
    "fname=[]\n",
    "count=0\n",
    "for root, dirs, files in os.walk(\"C:\\\\Users\\\\Thinkpad-E470\\\\Downloads\\\\titanic\\\\Capstone\"):\n",
    "    for file in files:\n",
    "        if file.endswith(\".mat\"):\n",
    "             print(os.path.join(root, file))\n",
    "             fname.append(os.path.join(root, file))\n",
    "             count=count+1"
   ]
  },
  {
   "cell_type": "code",
   "execution_count": 4,
   "metadata": {},
   "outputs": [
    {
     "data": {
      "text/plain": [
       "23"
      ]
     },
     "execution_count": 4,
     "metadata": {},
     "output_type": "execute_result"
    }
   ],
   "source": [
    "count"
   ]
  },
  {
   "cell_type": "code",
   "execution_count": 5,
   "metadata": {},
   "outputs": [],
   "source": [
    "xf=np.empty([53215,])\n",
    "yf=np.empty([53215,])\n",
    "zf=np.empty([53215,])\n",
    "x=np.empty([53215,23])\n",
    "y=np.empty([53215,23])\n",
    "z=np.empty([53215,23])\n",
    "for i in range(0,count):\n",
    "    data = scipy.io.loadmat(fname[i])\n",
    "    X = data['shape'][0]\n",
    "    Y = data['shape'][1]\n",
    "    Z = data['shape'][2]\n",
    "    xf=xf+X\n",
    "    yf=yf+Y\n",
    "    zf=zf+Z\n",
    "    x[:,i]=X\n",
    "    y[:,i]=Y\n",
    "    z[:,i]=Z"
   ]
  },
  {
   "cell_type": "code",
   "execution_count": 6,
   "metadata": {},
   "outputs": [],
   "source": [
    "Xnew=xf/count\n",
    "Ynew=yf/count\n",
    "Znew=zf/count"
   ]
  },
  {
   "cell_type": "code",
   "execution_count": 7,
   "metadata": {},
   "outputs": [
    {
     "data": {
      "text/plain": [
       "array([-1336763.44244371, -1336159.72322036, -1335726.59084877, ...,\n",
       "        1383617.58631289,  1378875.04578846,  1373734.50176846])"
      ]
     },
     "execution_count": 7,
     "metadata": {},
     "output_type": "execute_result"
    }
   ],
   "source": [
    "xf"
   ]
  },
  {
   "cell_type": "code",
   "execution_count": 8,
   "metadata": {},
   "outputs": [
    {
     "data": {
      "text/plain": [
       "array([-58120.14967147, -58093.90100958, -58075.06916734, ...,\n",
       "        60157.28636143,  59951.08894732,  59727.58703341])"
      ]
     },
     "execution_count": 8,
     "metadata": {},
     "output_type": "execute_result"
    }
   ],
   "source": [
    "Xnew"
   ]
  },
  {
   "cell_type": "code",
   "execution_count": 1,
   "metadata": {
    "ExecuteTime": {
     "end_time": "2021-05-20T06:16:03.265795Z",
     "start_time": "2021-05-20T06:16:03.244809Z"
    },
    "scrolled": true
   },
   "outputs": [],
   "source": [
    "# #006\n",
    "# import matplotlib\n",
    "# matplotlib.rcParams['figure.figsize'] = [4, 4] # for square canvas\n",
    "# matplotlib.rcParams['figure.subplot.left'] = 0\n",
    "# matplotlib.rcParams['figure.subplot.bottom'] = 0\n",
    "# matplotlib.rcParams['figure.subplot.right'] = 1\n",
    "# matplotlib.rcParams['figure.subplot.top'] = 1\n",
    "# fig = plt.figure()\n",
    "# ax = fig.gca(projection='3d')\n",
    "# ax.view_init(90, -90)\n",
    "# #for i in range(4,53215):\n",
    "# surf = ax.plot_trisurf(Xnew, Ynew, Znew,linewidth=0, antialiased=False)\n",
    "# #surf._facecolors2d=surf._facecolors3d\n",
    "# #x1=surf._facecolors2d\n",
    "# #surf._facecolors3d=x1\n",
    "# # Hide grid lines\n",
    "# ax.grid(False)\n",
    "# plt.axis('off')\n",
    "\n",
    "# #ax.scatter3D(X, Y, Z, color = \"green\")\n",
    "# plt.show()\n",
    "# plt.savefig('saved_figure.png',dpi=100)"
   ]
  },
  {
   "cell_type": "code",
   "execution_count": 2,
   "metadata": {
    "ExecuteTime": {
     "end_time": "2021-05-20T06:16:06.798597Z",
     "start_time": "2021-05-20T06:16:06.784282Z"
    }
   },
   "outputs": [],
   "source": [
    "# x1.shape"
   ]
  },
  {
   "cell_type": "code",
   "execution_count": 12,
   "metadata": {},
   "outputs": [
    {
     "data": {
      "text/plain": [
       "(400, 400, 4)"
      ]
     },
     "execution_count": 12,
     "metadata": {},
     "output_type": "execute_result"
    }
   ],
   "source": [
    "from PIL import Image, ImageOps\n",
    "     \n",
    "# creating a image1 object\n",
    "im1 = Image.open(\"saved_figure.png\")\n",
    " \n",
    "# applying greyscale method\n",
    "gen = np.asarray(im1)\n",
    "\n",
    "gen.shape"
   ]
  },
  {
   "cell_type": "code",
   "execution_count": 13,
   "metadata": {},
   "outputs": [
    {
     "data": {
      "text/plain": [
       "(256, 256, 4)"
      ]
     },
     "execution_count": 13,
     "metadata": {},
     "output_type": "execute_result"
    }
   ],
   "source": [
    "gencrop=gen[200-128:200+128,200-128:200+128]\n",
    "gencrop.shape"
   ]
  },
  {
   "cell_type": "code",
   "execution_count": 14,
   "metadata": {},
   "outputs": [
    {
     "data": {
      "text/plain": [
       "array([ 29, 111, 168, 255], dtype=uint8)"
      ]
     },
     "execution_count": 14,
     "metadata": {},
     "output_type": "execute_result"
    }
   ],
   "source": [
    "gencrop[64,64]"
   ]
  },
  {
   "cell_type": "code",
   "execution_count": 4,
   "metadata": {},
   "outputs": [],
   "source": [
    "from PIL import Image, ImageOps\n",
    "     \n",
    "# creating a image1 object\n",
    "im1 = Image.open(\"014__014-016_1.jpg\")\n",
    " \n",
    "# applying greyscale method\n",
    "im2 = ImageOps.grayscale(im1)\n",
    "\n",
    "ori=np.asarray(im2)"
   ]
  },
  {
   "cell_type": "code",
   "execution_count": 5,
   "metadata": {},
   "outputs": [
    {
     "data": {
      "text/plain": [
       "array([58, 34, 30], dtype=uint8)"
      ]
     },
     "execution_count": 5,
     "metadata": {},
     "output_type": "execute_result"
    }
   ],
   "source": [
    "ori[128,128]"
   ]
  },
  {
   "cell_type": "code",
   "execution_count": 17,
   "metadata": {},
   "outputs": [],
   "source": [
    "def pic_euc(gener,origi):\n",
    "    euc_dis=np.empty([256,256])\n",
    "    for i in range(0,256):\n",
    "        for j in range(0,256):\n",
    "            euc_dis[i,j]=np.sqrt((gener[i,j][0]-origi[i,j])**2)\n",
    "    return euc_dis"
   ]
  },
  {
   "cell_type": "code",
   "execution_count": 18,
   "metadata": {},
   "outputs": [
    {
     "name": "stderr",
     "output_type": "stream",
     "text": [
      "D:\\Analytics\\anaconda3\\lib\\site-packages\\ipykernel_launcher.py:5: RuntimeWarning: overflow encountered in ubyte_scalars\n",
      "  \"\"\"\n"
     ]
    }
   ],
   "source": [
    "dis=pic_euc(gencrop,ori)"
   ]
  },
  {
   "cell_type": "code",
   "execution_count": 19,
   "metadata": {},
   "outputs": [
    {
     "data": {
      "text/plain": [
       "(256, 256)"
      ]
     },
     "execution_count": 19,
     "metadata": {},
     "output_type": "execute_result"
    }
   ],
   "source": [
    "dis.shape"
   ]
  },
  {
   "cell_type": "code",
   "execution_count": 20,
   "metadata": {},
   "outputs": [
    {
     "data": {
      "text/plain": [
       "array([[117., 117., 117., ..., 117., 117., 117.],\n",
       "       [117., 117., 117., ..., 117., 117., 117.],\n",
       "       [117., 117., 117., ..., 117., 117., 117.],\n",
       "       ...,\n",
       "       [132., 132., 132., ..., 134., 134., 134.],\n",
       "       [132., 132., 132., ..., 134., 134., 134.],\n",
       "       [132., 132., 132., ..., 134., 134., 134.]])"
      ]
     },
     "execution_count": 20,
     "metadata": {},
     "output_type": "execute_result"
    }
   ],
   "source": [
    "dis"
   ]
  },
  {
   "cell_type": "code",
   "execution_count": 98,
   "metadata": {},
   "outputs": [
    {
     "data": {
      "text/plain": [
       "array([255, 255, 255, 255], dtype=uint8)"
      ]
     },
     "execution_count": 98,
     "metadata": {},
     "output_type": "execute_result"
    }
   ],
   "source": [
    "gencrop[0,0][0]"
   ]
  },
  {
   "cell_type": "code",
   "execution_count": 99,
   "metadata": {},
   "outputs": [
    {
     "data": {
      "text/plain": [
       "138"
      ]
     },
     "execution_count": 99,
     "metadata": {},
     "output_type": "execute_result"
    }
   ],
   "source": [
    "ori[0,0]"
   ]
  },
  {
   "cell_type": "code",
   "execution_count": 100,
   "metadata": {},
   "outputs": [
    {
     "data": {
      "text/plain": [
       "117"
      ]
     },
     "execution_count": 100,
     "metadata": {},
     "output_type": "execute_result"
    }
   ],
   "source": [
    "255-138"
   ]
  },
  {
   "cell_type": "code",
   "execution_count": 22,
   "metadata": {},
   "outputs": [
    {
     "data": {
      "text/plain": [
       "12914027.0"
      ]
     },
     "execution_count": 22,
     "metadata": {},
     "output_type": "execute_result"
    }
   ],
   "source": [
    "np.sum(dis)"
   ]
  },
  {
   "cell_type": "code",
   "execution_count": 23,
   "metadata": {},
   "outputs": [
    {
     "data": {
      "text/plain": [
       "'C:\\\\Users\\\\Thinkpad-E470\\\\Downloads\\\\titanic\\\\Capstone'"
      ]
     },
     "execution_count": 23,
     "metadata": {},
     "output_type": "execute_result"
    }
   ],
   "source": [
    "os.getcwd()"
   ]
  },
  {
   "cell_type": "code",
   "execution_count": 11,
   "metadata": {},
   "outputs": [],
   "source": [
    "os.chdir(\"C:\\\\Users\\\\Thinkpad-E470\\\\Downloads\\\\titanic\\\\Cap\")\n",
    "data = scipy.io.loadmat(\"014__014-016_0.mat\")\n",
    "X = data['shape'][0]\n",
    "Y = data['shape'][1]\n",
    "Z = data['shape'][2]\n",
    "os.chdir(\"C:\\\\Users\\\\Thinkpad-E470\\\\Downloads\\\\titanic\\\\Capstone\")"
   ]
  },
  {
   "cell_type": "code",
   "execution_count": 12,
   "metadata": {},
   "outputs": [
    {
     "data": {
      "text/plain": [
       "'C:\\\\Users\\\\Thinkpad-E470\\\\Downloads\\\\titanic\\\\Capstone'"
      ]
     },
     "execution_count": 12,
     "metadata": {},
     "output_type": "execute_result"
    }
   ],
   "source": [
    "os.getcwd()"
   ]
  },
  {
   "cell_type": "code",
   "execution_count": 13,
   "metadata": {},
   "outputs": [],
   "source": [
    "x1=np.asarray([[0.5]*4]*106375)\n",
    "x1[:,3]=1"
   ]
  },
  {
   "cell_type": "code",
   "execution_count": 14,
   "metadata": {},
   "outputs": [
    {
     "data": {
      "text/plain": [
       "(106375, 4)"
      ]
     },
     "execution_count": 14,
     "metadata": {},
     "output_type": "execute_result"
    }
   ],
   "source": [
    "x1.shape"
   ]
  },
  {
   "cell_type": "code",
   "execution_count": 15,
   "metadata": {},
   "outputs": [
    {
     "data": {
      "text/plain": [
       "65536"
      ]
     },
     "execution_count": 15,
     "metadata": {},
     "output_type": "execute_result"
    }
   ],
   "source": [
    "256*256"
   ]
  },
  {
   "cell_type": "code",
   "execution_count": 16,
   "metadata": {},
   "outputs": [
    {
     "data": {
      "text/plain": [
       "159645"
      ]
     },
     "execution_count": 16,
     "metadata": {},
     "output_type": "execute_result"
    }
   ],
   "source": [
    "53215*3"
   ]
  },
  {
   "cell_type": "code",
   "execution_count": 17,
   "metadata": {},
   "outputs": [
    {
     "data": {
      "text/plain": [
       "266020"
      ]
     },
     "execution_count": 17,
     "metadata": {},
     "output_type": "execute_result"
    }
   ],
   "source": [
    "159645+106375"
   ]
  },
  {
   "cell_type": "code",
   "execution_count": 18,
   "metadata": {},
   "outputs": [
    {
     "data": {
      "application/javascript": [
       "/* Put everything inside the global mpl namespace */\n",
       "/* global mpl */\n",
       "window.mpl = {};\n",
       "\n",
       "mpl.get_websocket_type = function () {\n",
       "    if (typeof WebSocket !== 'undefined') {\n",
       "        return WebSocket;\n",
       "    } else if (typeof MozWebSocket !== 'undefined') {\n",
       "        return MozWebSocket;\n",
       "    } else {\n",
       "        alert(\n",
       "            'Your browser does not have WebSocket support. ' +\n",
       "                'Please try Chrome, Safari or Firefox ≥ 6. ' +\n",
       "                'Firefox 4 and 5 are also supported but you ' +\n",
       "                'have to enable WebSockets in about:config.'\n",
       "        );\n",
       "    }\n",
       "};\n",
       "\n",
       "mpl.figure = function (figure_id, websocket, ondownload, parent_element) {\n",
       "    this.id = figure_id;\n",
       "\n",
       "    this.ws = websocket;\n",
       "\n",
       "    this.supports_binary = this.ws.binaryType !== undefined;\n",
       "\n",
       "    if (!this.supports_binary) {\n",
       "        var warnings = document.getElementById('mpl-warnings');\n",
       "        if (warnings) {\n",
       "            warnings.style.display = 'block';\n",
       "            warnings.textContent =\n",
       "                'This browser does not support binary websocket messages. ' +\n",
       "                'Performance may be slow.';\n",
       "        }\n",
       "    }\n",
       "\n",
       "    this.imageObj = new Image();\n",
       "\n",
       "    this.context = undefined;\n",
       "    this.message = undefined;\n",
       "    this.canvas = undefined;\n",
       "    this.rubberband_canvas = undefined;\n",
       "    this.rubberband_context = undefined;\n",
       "    this.format_dropdown = undefined;\n",
       "\n",
       "    this.image_mode = 'full';\n",
       "\n",
       "    this.root = document.createElement('div');\n",
       "    this.root.setAttribute('style', 'display: inline-block');\n",
       "    this._root_extra_style(this.root);\n",
       "\n",
       "    parent_element.appendChild(this.root);\n",
       "\n",
       "    this._init_header(this);\n",
       "    this._init_canvas(this);\n",
       "    this._init_toolbar(this);\n",
       "\n",
       "    var fig = this;\n",
       "\n",
       "    this.waiting = false;\n",
       "\n",
       "    this.ws.onopen = function () {\n",
       "        fig.send_message('supports_binary', { value: fig.supports_binary });\n",
       "        fig.send_message('send_image_mode', {});\n",
       "        if (fig.ratio !== 1) {\n",
       "            fig.send_message('set_dpi_ratio', { dpi_ratio: fig.ratio });\n",
       "        }\n",
       "        fig.send_message('refresh', {});\n",
       "    };\n",
       "\n",
       "    this.imageObj.onload = function () {\n",
       "        if (fig.image_mode === 'full') {\n",
       "            // Full images could contain transparency (where diff images\n",
       "            // almost always do), so we need to clear the canvas so that\n",
       "            // there is no ghosting.\n",
       "            fig.context.clearRect(0, 0, fig.canvas.width, fig.canvas.height);\n",
       "        }\n",
       "        fig.context.drawImage(fig.imageObj, 0, 0);\n",
       "    };\n",
       "\n",
       "    this.imageObj.onunload = function () {\n",
       "        fig.ws.close();\n",
       "    };\n",
       "\n",
       "    this.ws.onmessage = this._make_on_message_function(this);\n",
       "\n",
       "    this.ondownload = ondownload;\n",
       "};\n",
       "\n",
       "mpl.figure.prototype._init_header = function () {\n",
       "    var titlebar = document.createElement('div');\n",
       "    titlebar.classList =\n",
       "        'ui-dialog-titlebar ui-widget-header ui-corner-all ui-helper-clearfix';\n",
       "    var titletext = document.createElement('div');\n",
       "    titletext.classList = 'ui-dialog-title';\n",
       "    titletext.setAttribute(\n",
       "        'style',\n",
       "        'width: 100%; text-align: center; padding: 3px;'\n",
       "    );\n",
       "    titlebar.appendChild(titletext);\n",
       "    this.root.appendChild(titlebar);\n",
       "    this.header = titletext;\n",
       "};\n",
       "\n",
       "mpl.figure.prototype._canvas_extra_style = function (_canvas_div) {};\n",
       "\n",
       "mpl.figure.prototype._root_extra_style = function (_canvas_div) {};\n",
       "\n",
       "mpl.figure.prototype._init_canvas = function () {\n",
       "    var fig = this;\n",
       "\n",
       "    var canvas_div = (this.canvas_div = document.createElement('div'));\n",
       "    canvas_div.setAttribute(\n",
       "        'style',\n",
       "        'border: 1px solid #ddd;' +\n",
       "            'box-sizing: content-box;' +\n",
       "            'clear: both;' +\n",
       "            'min-height: 1px;' +\n",
       "            'min-width: 1px;' +\n",
       "            'outline: 0;' +\n",
       "            'overflow: hidden;' +\n",
       "            'position: relative;' +\n",
       "            'resize: both;'\n",
       "    );\n",
       "\n",
       "    function on_keyboard_event_closure(name) {\n",
       "        return function (event) {\n",
       "            return fig.key_event(event, name);\n",
       "        };\n",
       "    }\n",
       "\n",
       "    canvas_div.addEventListener(\n",
       "        'keydown',\n",
       "        on_keyboard_event_closure('key_press')\n",
       "    );\n",
       "    canvas_div.addEventListener(\n",
       "        'keyup',\n",
       "        on_keyboard_event_closure('key_release')\n",
       "    );\n",
       "\n",
       "    this._canvas_extra_style(canvas_div);\n",
       "    this.root.appendChild(canvas_div);\n",
       "\n",
       "    var canvas = (this.canvas = document.createElement('canvas'));\n",
       "    canvas.classList.add('mpl-canvas');\n",
       "    canvas.setAttribute('style', 'box-sizing: content-box;');\n",
       "\n",
       "    this.context = canvas.getContext('2d');\n",
       "\n",
       "    var backingStore =\n",
       "        this.context.backingStorePixelRatio ||\n",
       "        this.context.webkitBackingStorePixelRatio ||\n",
       "        this.context.mozBackingStorePixelRatio ||\n",
       "        this.context.msBackingStorePixelRatio ||\n",
       "        this.context.oBackingStorePixelRatio ||\n",
       "        this.context.backingStorePixelRatio ||\n",
       "        1;\n",
       "\n",
       "    this.ratio = (window.devicePixelRatio || 1) / backingStore;\n",
       "    if (this.ratio !== 1) {\n",
       "        fig.send_message('set_dpi_ratio', { dpi_ratio: this.ratio });\n",
       "    }\n",
       "\n",
       "    var rubberband_canvas = (this.rubberband_canvas = document.createElement(\n",
       "        'canvas'\n",
       "    ));\n",
       "    rubberband_canvas.setAttribute(\n",
       "        'style',\n",
       "        'box-sizing: content-box; position: absolute; left: 0; top: 0; z-index: 1;'\n",
       "    );\n",
       "\n",
       "    var resizeObserver = new ResizeObserver(function (entries) {\n",
       "        var nentries = entries.length;\n",
       "        for (var i = 0; i < nentries; i++) {\n",
       "            var entry = entries[i];\n",
       "            var width, height;\n",
       "            if (entry.contentBoxSize) {\n",
       "                if (entry.contentBoxSize instanceof Array) {\n",
       "                    // Chrome 84 implements new version of spec.\n",
       "                    width = entry.contentBoxSize[0].inlineSize;\n",
       "                    height = entry.contentBoxSize[0].blockSize;\n",
       "                } else {\n",
       "                    // Firefox implements old version of spec.\n",
       "                    width = entry.contentBoxSize.inlineSize;\n",
       "                    height = entry.contentBoxSize.blockSize;\n",
       "                }\n",
       "            } else {\n",
       "                // Chrome <84 implements even older version of spec.\n",
       "                width = entry.contentRect.width;\n",
       "                height = entry.contentRect.height;\n",
       "            }\n",
       "\n",
       "            // Keep the size of the canvas and rubber band canvas in sync with\n",
       "            // the canvas container.\n",
       "            if (entry.devicePixelContentBoxSize) {\n",
       "                // Chrome 84 implements new version of spec.\n",
       "                canvas.setAttribute(\n",
       "                    'width',\n",
       "                    entry.devicePixelContentBoxSize[0].inlineSize\n",
       "                );\n",
       "                canvas.setAttribute(\n",
       "                    'height',\n",
       "                    entry.devicePixelContentBoxSize[0].blockSize\n",
       "                );\n",
       "            } else {\n",
       "                canvas.setAttribute('width', width * fig.ratio);\n",
       "                canvas.setAttribute('height', height * fig.ratio);\n",
       "            }\n",
       "            canvas.setAttribute(\n",
       "                'style',\n",
       "                'width: ' + width + 'px; height: ' + height + 'px;'\n",
       "            );\n",
       "\n",
       "            rubberband_canvas.setAttribute('width', width);\n",
       "            rubberband_canvas.setAttribute('height', height);\n",
       "\n",
       "            // And update the size in Python. We ignore the initial 0/0 size\n",
       "            // that occurs as the element is placed into the DOM, which should\n",
       "            // otherwise not happen due to the minimum size styling.\n",
       "            if (width != 0 && height != 0) {\n",
       "                fig.request_resize(width, height);\n",
       "            }\n",
       "        }\n",
       "    });\n",
       "    resizeObserver.observe(canvas_div);\n",
       "\n",
       "    function on_mouse_event_closure(name) {\n",
       "        return function (event) {\n",
       "            return fig.mouse_event(event, name);\n",
       "        };\n",
       "    }\n",
       "\n",
       "    rubberband_canvas.addEventListener(\n",
       "        'mousedown',\n",
       "        on_mouse_event_closure('button_press')\n",
       "    );\n",
       "    rubberband_canvas.addEventListener(\n",
       "        'mouseup',\n",
       "        on_mouse_event_closure('button_release')\n",
       "    );\n",
       "    // Throttle sequential mouse events to 1 every 20ms.\n",
       "    rubberband_canvas.addEventListener(\n",
       "        'mousemove',\n",
       "        on_mouse_event_closure('motion_notify')\n",
       "    );\n",
       "\n",
       "    rubberband_canvas.addEventListener(\n",
       "        'mouseenter',\n",
       "        on_mouse_event_closure('figure_enter')\n",
       "    );\n",
       "    rubberband_canvas.addEventListener(\n",
       "        'mouseleave',\n",
       "        on_mouse_event_closure('figure_leave')\n",
       "    );\n",
       "\n",
       "    canvas_div.addEventListener('wheel', function (event) {\n",
       "        if (event.deltaY < 0) {\n",
       "            event.step = 1;\n",
       "        } else {\n",
       "            event.step = -1;\n",
       "        }\n",
       "        on_mouse_event_closure('scroll')(event);\n",
       "    });\n",
       "\n",
       "    canvas_div.appendChild(canvas);\n",
       "    canvas_div.appendChild(rubberband_canvas);\n",
       "\n",
       "    this.rubberband_context = rubberband_canvas.getContext('2d');\n",
       "    this.rubberband_context.strokeStyle = '#000000';\n",
       "\n",
       "    this._resize_canvas = function (width, height, forward) {\n",
       "        if (forward) {\n",
       "            canvas_div.style.width = width + 'px';\n",
       "            canvas_div.style.height = height + 'px';\n",
       "        }\n",
       "    };\n",
       "\n",
       "    // Disable right mouse context menu.\n",
       "    this.rubberband_canvas.addEventListener('contextmenu', function (_e) {\n",
       "        event.preventDefault();\n",
       "        return false;\n",
       "    });\n",
       "\n",
       "    function set_focus() {\n",
       "        canvas.focus();\n",
       "        canvas_div.focus();\n",
       "    }\n",
       "\n",
       "    window.setTimeout(set_focus, 100);\n",
       "};\n",
       "\n",
       "mpl.figure.prototype._init_toolbar = function () {\n",
       "    var fig = this;\n",
       "\n",
       "    var toolbar = document.createElement('div');\n",
       "    toolbar.classList = 'mpl-toolbar';\n",
       "    this.root.appendChild(toolbar);\n",
       "\n",
       "    function on_click_closure(name) {\n",
       "        return function (_event) {\n",
       "            return fig.toolbar_button_onclick(name);\n",
       "        };\n",
       "    }\n",
       "\n",
       "    function on_mouseover_closure(tooltip) {\n",
       "        return function (event) {\n",
       "            if (!event.currentTarget.disabled) {\n",
       "                return fig.toolbar_button_onmouseover(tooltip);\n",
       "            }\n",
       "        };\n",
       "    }\n",
       "\n",
       "    fig.buttons = {};\n",
       "    var buttonGroup = document.createElement('div');\n",
       "    buttonGroup.classList = 'mpl-button-group';\n",
       "    for (var toolbar_ind in mpl.toolbar_items) {\n",
       "        var name = mpl.toolbar_items[toolbar_ind][0];\n",
       "        var tooltip = mpl.toolbar_items[toolbar_ind][1];\n",
       "        var image = mpl.toolbar_items[toolbar_ind][2];\n",
       "        var method_name = mpl.toolbar_items[toolbar_ind][3];\n",
       "\n",
       "        if (!name) {\n",
       "            /* Instead of a spacer, we start a new button group. */\n",
       "            if (buttonGroup.hasChildNodes()) {\n",
       "                toolbar.appendChild(buttonGroup);\n",
       "            }\n",
       "            buttonGroup = document.createElement('div');\n",
       "            buttonGroup.classList = 'mpl-button-group';\n",
       "            continue;\n",
       "        }\n",
       "\n",
       "        var button = (fig.buttons[name] = document.createElement('button'));\n",
       "        button.classList = 'mpl-widget';\n",
       "        button.setAttribute('role', 'button');\n",
       "        button.setAttribute('aria-disabled', 'false');\n",
       "        button.addEventListener('click', on_click_closure(method_name));\n",
       "        button.addEventListener('mouseover', on_mouseover_closure(tooltip));\n",
       "\n",
       "        var icon_img = document.createElement('img');\n",
       "        icon_img.src = '_images/' + image + '.png';\n",
       "        icon_img.srcset = '_images/' + image + '_large.png 2x';\n",
       "        icon_img.alt = tooltip;\n",
       "        button.appendChild(icon_img);\n",
       "\n",
       "        buttonGroup.appendChild(button);\n",
       "    }\n",
       "\n",
       "    if (buttonGroup.hasChildNodes()) {\n",
       "        toolbar.appendChild(buttonGroup);\n",
       "    }\n",
       "\n",
       "    var fmt_picker = document.createElement('select');\n",
       "    fmt_picker.classList = 'mpl-widget';\n",
       "    toolbar.appendChild(fmt_picker);\n",
       "    this.format_dropdown = fmt_picker;\n",
       "\n",
       "    for (var ind in mpl.extensions) {\n",
       "        var fmt = mpl.extensions[ind];\n",
       "        var option = document.createElement('option');\n",
       "        option.selected = fmt === mpl.default_extension;\n",
       "        option.innerHTML = fmt;\n",
       "        fmt_picker.appendChild(option);\n",
       "    }\n",
       "\n",
       "    var status_bar = document.createElement('span');\n",
       "    status_bar.classList = 'mpl-message';\n",
       "    toolbar.appendChild(status_bar);\n",
       "    this.message = status_bar;\n",
       "};\n",
       "\n",
       "mpl.figure.prototype.request_resize = function (x_pixels, y_pixels) {\n",
       "    // Request matplotlib to resize the figure. Matplotlib will then trigger a resize in the client,\n",
       "    // which will in turn request a refresh of the image.\n",
       "    this.send_message('resize', { width: x_pixels, height: y_pixels });\n",
       "};\n",
       "\n",
       "mpl.figure.prototype.send_message = function (type, properties) {\n",
       "    properties['type'] = type;\n",
       "    properties['figure_id'] = this.id;\n",
       "    this.ws.send(JSON.stringify(properties));\n",
       "};\n",
       "\n",
       "mpl.figure.prototype.send_draw_message = function () {\n",
       "    if (!this.waiting) {\n",
       "        this.waiting = true;\n",
       "        this.ws.send(JSON.stringify({ type: 'draw', figure_id: this.id }));\n",
       "    }\n",
       "};\n",
       "\n",
       "mpl.figure.prototype.handle_save = function (fig, _msg) {\n",
       "    var format_dropdown = fig.format_dropdown;\n",
       "    var format = format_dropdown.options[format_dropdown.selectedIndex].value;\n",
       "    fig.ondownload(fig, format);\n",
       "};\n",
       "\n",
       "mpl.figure.prototype.handle_resize = function (fig, msg) {\n",
       "    var size = msg['size'];\n",
       "    if (size[0] !== fig.canvas.width || size[1] !== fig.canvas.height) {\n",
       "        fig._resize_canvas(size[0], size[1], msg['forward']);\n",
       "        fig.send_message('refresh', {});\n",
       "    }\n",
       "};\n",
       "\n",
       "mpl.figure.prototype.handle_rubberband = function (fig, msg) {\n",
       "    var x0 = msg['x0'] / fig.ratio;\n",
       "    var y0 = (fig.canvas.height - msg['y0']) / fig.ratio;\n",
       "    var x1 = msg['x1'] / fig.ratio;\n",
       "    var y1 = (fig.canvas.height - msg['y1']) / fig.ratio;\n",
       "    x0 = Math.floor(x0) + 0.5;\n",
       "    y0 = Math.floor(y0) + 0.5;\n",
       "    x1 = Math.floor(x1) + 0.5;\n",
       "    y1 = Math.floor(y1) + 0.5;\n",
       "    var min_x = Math.min(x0, x1);\n",
       "    var min_y = Math.min(y0, y1);\n",
       "    var width = Math.abs(x1 - x0);\n",
       "    var height = Math.abs(y1 - y0);\n",
       "\n",
       "    fig.rubberband_context.clearRect(\n",
       "        0,\n",
       "        0,\n",
       "        fig.canvas.width / fig.ratio,\n",
       "        fig.canvas.height / fig.ratio\n",
       "    );\n",
       "\n",
       "    fig.rubberband_context.strokeRect(min_x, min_y, width, height);\n",
       "};\n",
       "\n",
       "mpl.figure.prototype.handle_figure_label = function (fig, msg) {\n",
       "    // Updates the figure title.\n",
       "    fig.header.textContent = msg['label'];\n",
       "};\n",
       "\n",
       "mpl.figure.prototype.handle_cursor = function (fig, msg) {\n",
       "    var cursor = msg['cursor'];\n",
       "    switch (cursor) {\n",
       "        case 0:\n",
       "            cursor = 'pointer';\n",
       "            break;\n",
       "        case 1:\n",
       "            cursor = 'default';\n",
       "            break;\n",
       "        case 2:\n",
       "            cursor = 'crosshair';\n",
       "            break;\n",
       "        case 3:\n",
       "            cursor = 'move';\n",
       "            break;\n",
       "    }\n",
       "    fig.rubberband_canvas.style.cursor = cursor;\n",
       "};\n",
       "\n",
       "mpl.figure.prototype.handle_message = function (fig, msg) {\n",
       "    fig.message.textContent = msg['message'];\n",
       "};\n",
       "\n",
       "mpl.figure.prototype.handle_draw = function (fig, _msg) {\n",
       "    // Request the server to send over a new figure.\n",
       "    fig.send_draw_message();\n",
       "};\n",
       "\n",
       "mpl.figure.prototype.handle_image_mode = function (fig, msg) {\n",
       "    fig.image_mode = msg['mode'];\n",
       "};\n",
       "\n",
       "mpl.figure.prototype.handle_history_buttons = function (fig, msg) {\n",
       "    for (var key in msg) {\n",
       "        if (!(key in fig.buttons)) {\n",
       "            continue;\n",
       "        }\n",
       "        fig.buttons[key].disabled = !msg[key];\n",
       "        fig.buttons[key].setAttribute('aria-disabled', !msg[key]);\n",
       "    }\n",
       "};\n",
       "\n",
       "mpl.figure.prototype.handle_navigate_mode = function (fig, msg) {\n",
       "    if (msg['mode'] === 'PAN') {\n",
       "        fig.buttons['Pan'].classList.add('active');\n",
       "        fig.buttons['Zoom'].classList.remove('active');\n",
       "    } else if (msg['mode'] === 'ZOOM') {\n",
       "        fig.buttons['Pan'].classList.remove('active');\n",
       "        fig.buttons['Zoom'].classList.add('active');\n",
       "    } else {\n",
       "        fig.buttons['Pan'].classList.remove('active');\n",
       "        fig.buttons['Zoom'].classList.remove('active');\n",
       "    }\n",
       "};\n",
       "\n",
       "mpl.figure.prototype.updated_canvas_event = function () {\n",
       "    // Called whenever the canvas gets updated.\n",
       "    this.send_message('ack', {});\n",
       "};\n",
       "\n",
       "// A function to construct a web socket function for onmessage handling.\n",
       "// Called in the figure constructor.\n",
       "mpl.figure.prototype._make_on_message_function = function (fig) {\n",
       "    return function socket_on_message(evt) {\n",
       "        if (evt.data instanceof Blob) {\n",
       "            /* FIXME: We get \"Resource interpreted as Image but\n",
       "             * transferred with MIME type text/plain:\" errors on\n",
       "             * Chrome.  But how to set the MIME type?  It doesn't seem\n",
       "             * to be part of the websocket stream */\n",
       "            evt.data.type = 'image/png';\n",
       "\n",
       "            /* Free the memory for the previous frames */\n",
       "            if (fig.imageObj.src) {\n",
       "                (window.URL || window.webkitURL).revokeObjectURL(\n",
       "                    fig.imageObj.src\n",
       "                );\n",
       "            }\n",
       "\n",
       "            fig.imageObj.src = (window.URL || window.webkitURL).createObjectURL(\n",
       "                evt.data\n",
       "            );\n",
       "            fig.updated_canvas_event();\n",
       "            fig.waiting = false;\n",
       "            return;\n",
       "        } else if (\n",
       "            typeof evt.data === 'string' &&\n",
       "            evt.data.slice(0, 21) === 'data:image/png;base64'\n",
       "        ) {\n",
       "            fig.imageObj.src = evt.data;\n",
       "            fig.updated_canvas_event();\n",
       "            fig.waiting = false;\n",
       "            return;\n",
       "        }\n",
       "\n",
       "        var msg = JSON.parse(evt.data);\n",
       "        var msg_type = msg['type'];\n",
       "\n",
       "        // Call the  \"handle_{type}\" callback, which takes\n",
       "        // the figure and JSON message as its only arguments.\n",
       "        try {\n",
       "            var callback = fig['handle_' + msg_type];\n",
       "        } catch (e) {\n",
       "            console.log(\n",
       "                \"No handler for the '\" + msg_type + \"' message type: \",\n",
       "                msg\n",
       "            );\n",
       "            return;\n",
       "        }\n",
       "\n",
       "        if (callback) {\n",
       "            try {\n",
       "                // console.log(\"Handling '\" + msg_type + \"' message: \", msg);\n",
       "                callback(fig, msg);\n",
       "            } catch (e) {\n",
       "                console.log(\n",
       "                    \"Exception inside the 'handler_\" + msg_type + \"' callback:\",\n",
       "                    e,\n",
       "                    e.stack,\n",
       "                    msg\n",
       "                );\n",
       "            }\n",
       "        }\n",
       "    };\n",
       "};\n",
       "\n",
       "// from http://stackoverflow.com/questions/1114465/getting-mouse-location-in-canvas\n",
       "mpl.findpos = function (e) {\n",
       "    //this section is from http://www.quirksmode.org/js/events_properties.html\n",
       "    var targ;\n",
       "    if (!e) {\n",
       "        e = window.event;\n",
       "    }\n",
       "    if (e.target) {\n",
       "        targ = e.target;\n",
       "    } else if (e.srcElement) {\n",
       "        targ = e.srcElement;\n",
       "    }\n",
       "    if (targ.nodeType === 3) {\n",
       "        // defeat Safari bug\n",
       "        targ = targ.parentNode;\n",
       "    }\n",
       "\n",
       "    // pageX,Y are the mouse positions relative to the document\n",
       "    var boundingRect = targ.getBoundingClientRect();\n",
       "    var x = e.pageX - (boundingRect.left + document.body.scrollLeft);\n",
       "    var y = e.pageY - (boundingRect.top + document.body.scrollTop);\n",
       "\n",
       "    return { x: x, y: y };\n",
       "};\n",
       "\n",
       "/*\n",
       " * return a copy of an object with only non-object keys\n",
       " * we need this to avoid circular references\n",
       " * http://stackoverflow.com/a/24161582/3208463\n",
       " */\n",
       "function simpleKeys(original) {\n",
       "    return Object.keys(original).reduce(function (obj, key) {\n",
       "        if (typeof original[key] !== 'object') {\n",
       "            obj[key] = original[key];\n",
       "        }\n",
       "        return obj;\n",
       "    }, {});\n",
       "}\n",
       "\n",
       "mpl.figure.prototype.mouse_event = function (event, name) {\n",
       "    var canvas_pos = mpl.findpos(event);\n",
       "\n",
       "    if (name === 'button_press') {\n",
       "        this.canvas.focus();\n",
       "        this.canvas_div.focus();\n",
       "    }\n",
       "\n",
       "    var x = canvas_pos.x * this.ratio;\n",
       "    var y = canvas_pos.y * this.ratio;\n",
       "\n",
       "    this.send_message(name, {\n",
       "        x: x,\n",
       "        y: y,\n",
       "        button: event.button,\n",
       "        step: event.step,\n",
       "        guiEvent: simpleKeys(event),\n",
       "    });\n",
       "\n",
       "    /* This prevents the web browser from automatically changing to\n",
       "     * the text insertion cursor when the button is pressed.  We want\n",
       "     * to control all of the cursor setting manually through the\n",
       "     * 'cursor' event from matplotlib */\n",
       "    event.preventDefault();\n",
       "    return false;\n",
       "};\n",
       "\n",
       "mpl.figure.prototype._key_event_extra = function (_event, _name) {\n",
       "    // Handle any extra behaviour associated with a key event\n",
       "};\n",
       "\n",
       "mpl.figure.prototype.key_event = function (event, name) {\n",
       "    // Prevent repeat events\n",
       "    if (name === 'key_press') {\n",
       "        if (event.which === this._key) {\n",
       "            return;\n",
       "        } else {\n",
       "            this._key = event.which;\n",
       "        }\n",
       "    }\n",
       "    if (name === 'key_release') {\n",
       "        this._key = null;\n",
       "    }\n",
       "\n",
       "    var value = '';\n",
       "    if (event.ctrlKey && event.which !== 17) {\n",
       "        value += 'ctrl+';\n",
       "    }\n",
       "    if (event.altKey && event.which !== 18) {\n",
       "        value += 'alt+';\n",
       "    }\n",
       "    if (event.shiftKey && event.which !== 16) {\n",
       "        value += 'shift+';\n",
       "    }\n",
       "\n",
       "    value += 'k';\n",
       "    value += event.which.toString();\n",
       "\n",
       "    this._key_event_extra(event, name);\n",
       "\n",
       "    this.send_message(name, { key: value, guiEvent: simpleKeys(event) });\n",
       "    return false;\n",
       "};\n",
       "\n",
       "mpl.figure.prototype.toolbar_button_onclick = function (name) {\n",
       "    if (name === 'download') {\n",
       "        this.handle_save(this, null);\n",
       "    } else {\n",
       "        this.send_message('toolbar_button', { name: name });\n",
       "    }\n",
       "};\n",
       "\n",
       "mpl.figure.prototype.toolbar_button_onmouseover = function (tooltip) {\n",
       "    this.message.textContent = tooltip;\n",
       "};\n",
       "mpl.toolbar_items = [[\"Home\", \"Reset original view\", \"fa fa-home icon-home\", \"home\"], [\"Back\", \"Back to previous view\", \"fa fa-arrow-left icon-arrow-left\", \"back\"], [\"Forward\", \"Forward to next view\", \"fa fa-arrow-right icon-arrow-right\", \"forward\"], [\"\", \"\", \"\", \"\"], [\"Pan\", \"Left button pans, Right button zooms\\nx/y fixes axis, CTRL fixes aspect\", \"fa fa-arrows icon-move\", \"pan\"], [\"Zoom\", \"Zoom to rectangle\\nx/y fixes axis, CTRL fixes aspect\", \"fa fa-square-o icon-check-empty\", \"zoom\"], [\"\", \"\", \"\", \"\"], [\"Download\", \"Download plot\", \"fa fa-floppy-o icon-save\", \"download\"]];\n",
       "\n",
       "mpl.extensions = [\"eps\", \"jpeg\", \"pdf\", \"png\", \"ps\", \"raw\", \"svg\", \"tif\"];\n",
       "\n",
       "mpl.default_extension = \"png\";/* global mpl */\n",
       "\n",
       "var comm_websocket_adapter = function (comm) {\n",
       "    // Create a \"websocket\"-like object which calls the given IPython comm\n",
       "    // object with the appropriate methods. Currently this is a non binary\n",
       "    // socket, so there is still some room for performance tuning.\n",
       "    var ws = {};\n",
       "\n",
       "    ws.close = function () {\n",
       "        comm.close();\n",
       "    };\n",
       "    ws.send = function (m) {\n",
       "        //console.log('sending', m);\n",
       "        comm.send(m);\n",
       "    };\n",
       "    // Register the callback with on_msg.\n",
       "    comm.on_msg(function (msg) {\n",
       "        //console.log('receiving', msg['content']['data'], msg);\n",
       "        // Pass the mpl event to the overridden (by mpl) onmessage function.\n",
       "        ws.onmessage(msg['content']['data']);\n",
       "    });\n",
       "    return ws;\n",
       "};\n",
       "\n",
       "mpl.mpl_figure_comm = function (comm, msg) {\n",
       "    // This is the function which gets called when the mpl process\n",
       "    // starts-up an IPython Comm through the \"matplotlib\" channel.\n",
       "\n",
       "    var id = msg.content.data.id;\n",
       "    // Get hold of the div created by the display call when the Comm\n",
       "    // socket was opened in Python.\n",
       "    var element = document.getElementById(id);\n",
       "    var ws_proxy = comm_websocket_adapter(comm);\n",
       "\n",
       "    function ondownload(figure, _format) {\n",
       "        window.open(figure.canvas.toDataURL());\n",
       "    }\n",
       "\n",
       "    var fig = new mpl.figure(id, ws_proxy, ondownload, element);\n",
       "\n",
       "    // Call onopen now - mpl needs it, as it is assuming we've passed it a real\n",
       "    // web socket which is closed, not our websocket->open comm proxy.\n",
       "    ws_proxy.onopen();\n",
       "\n",
       "    fig.parent_element = element;\n",
       "    fig.cell_info = mpl.find_output_cell(\"<div id='\" + id + \"'></div>\");\n",
       "    if (!fig.cell_info) {\n",
       "        console.error('Failed to find cell for figure', id, fig);\n",
       "        return;\n",
       "    }\n",
       "    fig.cell_info[0].output_area.element.one(\n",
       "        'cleared',\n",
       "        { fig: fig },\n",
       "        fig._remove_fig_handler\n",
       "    );\n",
       "};\n",
       "\n",
       "mpl.figure.prototype.handle_close = function (fig, msg) {\n",
       "    var width = fig.canvas.width / fig.ratio;\n",
       "    fig.cell_info[0].output_area.element.off(\n",
       "        'cleared',\n",
       "        fig._remove_fig_handler\n",
       "    );\n",
       "\n",
       "    // Update the output cell to use the data from the current canvas.\n",
       "    fig.push_to_output();\n",
       "    var dataURL = fig.canvas.toDataURL();\n",
       "    // Re-enable the keyboard manager in IPython - without this line, in FF,\n",
       "    // the notebook keyboard shortcuts fail.\n",
       "    IPython.keyboard_manager.enable();\n",
       "    fig.parent_element.innerHTML =\n",
       "        '<img src=\"' + dataURL + '\" width=\"' + width + '\">';\n",
       "    fig.close_ws(fig, msg);\n",
       "};\n",
       "\n",
       "mpl.figure.prototype.close_ws = function (fig, msg) {\n",
       "    fig.send_message('closing', msg);\n",
       "    // fig.ws.close()\n",
       "};\n",
       "\n",
       "mpl.figure.prototype.push_to_output = function (_remove_interactive) {\n",
       "    // Turn the data on the canvas into data in the output cell.\n",
       "    var width = this.canvas.width / this.ratio;\n",
       "    var dataURL = this.canvas.toDataURL();\n",
       "    this.cell_info[1]['text/html'] =\n",
       "        '<img src=\"' + dataURL + '\" width=\"' + width + '\">';\n",
       "};\n",
       "\n",
       "mpl.figure.prototype.updated_canvas_event = function () {\n",
       "    // Tell IPython that the notebook contents must change.\n",
       "    IPython.notebook.set_dirty(true);\n",
       "    this.send_message('ack', {});\n",
       "    var fig = this;\n",
       "    // Wait a second, then push the new image to the DOM so\n",
       "    // that it is saved nicely (might be nice to debounce this).\n",
       "    setTimeout(function () {\n",
       "        fig.push_to_output();\n",
       "    }, 1000);\n",
       "};\n",
       "\n",
       "mpl.figure.prototype._init_toolbar = function () {\n",
       "    var fig = this;\n",
       "\n",
       "    var toolbar = document.createElement('div');\n",
       "    toolbar.classList = 'btn-toolbar';\n",
       "    this.root.appendChild(toolbar);\n",
       "\n",
       "    function on_click_closure(name) {\n",
       "        return function (_event) {\n",
       "            return fig.toolbar_button_onclick(name);\n",
       "        };\n",
       "    }\n",
       "\n",
       "    function on_mouseover_closure(tooltip) {\n",
       "        return function (event) {\n",
       "            if (!event.currentTarget.disabled) {\n",
       "                return fig.toolbar_button_onmouseover(tooltip);\n",
       "            }\n",
       "        };\n",
       "    }\n",
       "\n",
       "    fig.buttons = {};\n",
       "    var buttonGroup = document.createElement('div');\n",
       "    buttonGroup.classList = 'btn-group';\n",
       "    var button;\n",
       "    for (var toolbar_ind in mpl.toolbar_items) {\n",
       "        var name = mpl.toolbar_items[toolbar_ind][0];\n",
       "        var tooltip = mpl.toolbar_items[toolbar_ind][1];\n",
       "        var image = mpl.toolbar_items[toolbar_ind][2];\n",
       "        var method_name = mpl.toolbar_items[toolbar_ind][3];\n",
       "\n",
       "        if (!name) {\n",
       "            /* Instead of a spacer, we start a new button group. */\n",
       "            if (buttonGroup.hasChildNodes()) {\n",
       "                toolbar.appendChild(buttonGroup);\n",
       "            }\n",
       "            buttonGroup = document.createElement('div');\n",
       "            buttonGroup.classList = 'btn-group';\n",
       "            continue;\n",
       "        }\n",
       "\n",
       "        button = fig.buttons[name] = document.createElement('button');\n",
       "        button.classList = 'btn btn-default';\n",
       "        button.href = '#';\n",
       "        button.title = name;\n",
       "        button.innerHTML = '<i class=\"fa ' + image + ' fa-lg\"></i>';\n",
       "        button.addEventListener('click', on_click_closure(method_name));\n",
       "        button.addEventListener('mouseover', on_mouseover_closure(tooltip));\n",
       "        buttonGroup.appendChild(button);\n",
       "    }\n",
       "\n",
       "    if (buttonGroup.hasChildNodes()) {\n",
       "        toolbar.appendChild(buttonGroup);\n",
       "    }\n",
       "\n",
       "    // Add the status bar.\n",
       "    var status_bar = document.createElement('span');\n",
       "    status_bar.classList = 'mpl-message pull-right';\n",
       "    toolbar.appendChild(status_bar);\n",
       "    this.message = status_bar;\n",
       "\n",
       "    // Add the close button to the window.\n",
       "    var buttongrp = document.createElement('div');\n",
       "    buttongrp.classList = 'btn-group inline pull-right';\n",
       "    button = document.createElement('button');\n",
       "    button.classList = 'btn btn-mini btn-primary';\n",
       "    button.href = '#';\n",
       "    button.title = 'Stop Interaction';\n",
       "    button.innerHTML = '<i class=\"fa fa-power-off icon-remove icon-large\"></i>';\n",
       "    button.addEventListener('click', function (_evt) {\n",
       "        fig.handle_close(fig, {});\n",
       "    });\n",
       "    button.addEventListener(\n",
       "        'mouseover',\n",
       "        on_mouseover_closure('Stop Interaction')\n",
       "    );\n",
       "    buttongrp.appendChild(button);\n",
       "    var titlebar = this.root.querySelector('.ui-dialog-titlebar');\n",
       "    titlebar.insertBefore(buttongrp, titlebar.firstChild);\n",
       "};\n",
       "\n",
       "mpl.figure.prototype._remove_fig_handler = function (event) {\n",
       "    var fig = event.data.fig;\n",
       "    fig.close_ws(fig, {});\n",
       "};\n",
       "\n",
       "mpl.figure.prototype._root_extra_style = function (el) {\n",
       "    el.style.boxSizing = 'content-box'; // override notebook setting of border-box.\n",
       "};\n",
       "\n",
       "mpl.figure.prototype._canvas_extra_style = function (el) {\n",
       "    // this is important to make the div 'focusable\n",
       "    el.setAttribute('tabindex', 0);\n",
       "    // reach out to IPython and tell the keyboard manager to turn it's self\n",
       "    // off when our div gets focus\n",
       "\n",
       "    // location in version 3\n",
       "    if (IPython.notebook.keyboard_manager) {\n",
       "        IPython.notebook.keyboard_manager.register_events(el);\n",
       "    } else {\n",
       "        // location in version 2\n",
       "        IPython.keyboard_manager.register_events(el);\n",
       "    }\n",
       "};\n",
       "\n",
       "mpl.figure.prototype._key_event_extra = function (event, _name) {\n",
       "    var manager = IPython.notebook.keyboard_manager;\n",
       "    if (!manager) {\n",
       "        manager = IPython.keyboard_manager;\n",
       "    }\n",
       "\n",
       "    // Check for shift+enter\n",
       "    if (event.shiftKey && event.which === 13) {\n",
       "        this.canvas_div.blur();\n",
       "        // select the cell after this one\n",
       "        var index = IPython.notebook.find_cell_index(this.cell_info[0]);\n",
       "        IPython.notebook.select(index + 1);\n",
       "    }\n",
       "};\n",
       "\n",
       "mpl.figure.prototype.handle_save = function (fig, _msg) {\n",
       "    fig.ondownload(fig, null);\n",
       "};\n",
       "\n",
       "mpl.find_output_cell = function (html_output) {\n",
       "    // Return the cell and output element which can be found *uniquely* in the notebook.\n",
       "    // Note - this is a bit hacky, but it is done because the \"notebook_saving.Notebook\"\n",
       "    // IPython event is triggered only after the cells have been serialised, which for\n",
       "    // our purposes (turning an active figure into a static one), is too late.\n",
       "    var cells = IPython.notebook.get_cells();\n",
       "    var ncells = cells.length;\n",
       "    for (var i = 0; i < ncells; i++) {\n",
       "        var cell = cells[i];\n",
       "        if (cell.cell_type === 'code') {\n",
       "            for (var j = 0; j < cell.output_area.outputs.length; j++) {\n",
       "                var data = cell.output_area.outputs[j];\n",
       "                if (data.data) {\n",
       "                    // IPython >= 3 moved mimebundle to data attribute of output\n",
       "                    data = data.data;\n",
       "                }\n",
       "                if (data['text/html'] === html_output) {\n",
       "                    return [cell, data, j];\n",
       "                }\n",
       "            }\n",
       "        }\n",
       "    }\n",
       "};\n",
       "\n",
       "// Register the function which deals with the matplotlib target/channel.\n",
       "// The kernel may be null if the page has been refreshed.\n",
       "if (IPython.notebook.kernel !== null) {\n",
       "    IPython.notebook.kernel.comm_manager.register_target(\n",
       "        'matplotlib',\n",
       "        mpl.mpl_figure_comm\n",
       "    );\n",
       "}\n"
      ],
      "text/plain": [
       "<IPython.core.display.Javascript object>"
      ]
     },
     "metadata": {},
     "output_type": "display_data"
    },
    {
     "data": {
      "text/html": [
       "<img src=\"data:image/png;base64,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\" width=\"400\">"
      ],
      "text/plain": [
       "<IPython.core.display.HTML object>"
      ]
     },
     "metadata": {},
     "output_type": "display_data"
    }
   ],
   "source": [
    "import matplotlib\n",
    "matplotlib.rcParams['figure.figsize'] = [4, 4] # for square canvas\n",
    "matplotlib.rcParams['figure.subplot.left'] = 0\n",
    "matplotlib.rcParams['figure.subplot.bottom'] = 0\n",
    "matplotlib.rcParams['figure.subplot.right'] = 1\n",
    "matplotlib.rcParams['figure.subplot.top'] = 1\n",
    "fig = plt.figure()\n",
    "ax = fig.gca(projection='3d')\n",
    "ax.view_init(90, -90)\n",
    "#for i in range(4,53215):\n",
    "surf = ax.plot_trisurf(X, Y, Z,linewidth=0, antialiased=False)\n",
    "surf._facecolors2d=surf._facecolors3d\n",
    "#x1=surf._facecolors2d\n",
    "surf._facecolors3d=x1\n",
    "# Hide grid lines\n",
    "ax.grid(False)\n",
    "plt.axis('off')\n",
    "\n",
    "#ax.scatter3D(X, Y, Z, color = \"green\")\n",
    "plt.show()\n",
    "plt.savefig('saved_figure.png',dpi=100)"
   ]
  },
  {
   "cell_type": "code",
   "execution_count": 31,
   "metadata": {},
   "outputs": [
    {
     "data": {
      "text/plain": [
       "(400, 400, 4)"
      ]
     },
     "execution_count": 31,
     "metadata": {},
     "output_type": "execute_result"
    }
   ],
   "source": [
    "from PIL import Image, ImageOps\n",
    "     \n",
    "# creating a image1 object\n",
    "im1 = Image.open(\"saved_figure.png\")\n",
    " \n",
    "# applying greyscale method\n",
    "gen = np.asarray(im1)\n",
    "\n",
    "gen.shape"
   ]
  },
  {
   "cell_type": "code",
   "execution_count": 32,
   "metadata": {},
   "outputs": [
    {
     "data": {
      "text/plain": [
       "(256, 256, 4)"
      ]
     },
     "execution_count": 32,
     "metadata": {},
     "output_type": "execute_result"
    }
   ],
   "source": [
    "gencrop=gen[200-128:200+128,200-128:200+128]\n",
    "gencrop.shape"
   ]
  },
  {
   "cell_type": "code",
   "execution_count": 33,
   "metadata": {},
   "outputs": [
    {
     "data": {
      "text/plain": [
       "array([128, 128, 128, 255], dtype=uint8)"
      ]
     },
     "execution_count": 33,
     "metadata": {},
     "output_type": "execute_result"
    }
   ],
   "source": [
    "gencrop[64,64]"
   ]
  },
  {
   "cell_type": "code",
   "execution_count": 34,
   "metadata": {},
   "outputs": [],
   "source": [
    "from PIL import Image, ImageOps\n",
    "     \n",
    "# creating a image1 object\n",
    "im1 = Image.open(\"014__014-016_1.jpg\")\n",
    " \n",
    "# applying greyscale method\n",
    "im2 = ImageOps.grayscale(im1)\n",
    "\n",
    "ori=np.asarray(im2)"
   ]
  },
  {
   "cell_type": "code",
   "execution_count": 35,
   "metadata": {},
   "outputs": [
    {
     "data": {
      "text/plain": [
       "41"
      ]
     },
     "execution_count": 35,
     "metadata": {},
     "output_type": "execute_result"
    }
   ],
   "source": [
    "ori[128,128]"
   ]
  },
  {
   "cell_type": "code",
   "execution_count": 36,
   "metadata": {},
   "outputs": [],
   "source": [
    "def pic_euc(gener,origi):\n",
    "    euc_dis=np.empty([256,256])\n",
    "    for i in range(0,256):\n",
    "        for j in range(0,256):\n",
    "            euc_dis[i,j]=np.sqrt((gener[i,j][0]-origi[i,j])**2)\n",
    "    return euc_dis"
   ]
  },
  {
   "cell_type": "code",
   "execution_count": 37,
   "metadata": {},
   "outputs": [
    {
     "name": "stderr",
     "output_type": "stream",
     "text": [
      "D:\\Analytics\\anaconda3\\lib\\site-packages\\ipykernel_launcher.py:5: RuntimeWarning: overflow encountered in ubyte_scalars\n",
      "  \"\"\"\n"
     ]
    }
   ],
   "source": [
    "dis=pic_euc(gencrop,ori)"
   ]
  },
  {
   "cell_type": "code",
   "execution_count": 38,
   "metadata": {},
   "outputs": [
    {
     "data": {
      "text/plain": [
       "(256, 256)"
      ]
     },
     "execution_count": 38,
     "metadata": {},
     "output_type": "execute_result"
    }
   ],
   "source": [
    "dis.shape"
   ]
  },
  {
   "cell_type": "code",
   "execution_count": 39,
   "metadata": {
    "scrolled": true
   },
   "outputs": [
    {
     "data": {
      "text/plain": [
       "array([[117., 117., 117., ..., 117., 117., 117.],\n",
       "       [117., 117., 117., ..., 117., 117., 117.],\n",
       "       [117., 117., 117., ..., 117., 117., 117.],\n",
       "       ...,\n",
       "       [132., 132., 132., ..., 134., 134., 134.],\n",
       "       [132., 132., 132., ..., 134., 134., 134.],\n",
       "       [132., 132., 132., ..., 134., 134., 134.]])"
      ]
     },
     "execution_count": 39,
     "metadata": {},
     "output_type": "execute_result"
    }
   ],
   "source": [
    "dis"
   ]
  },
  {
   "cell_type": "code",
   "execution_count": 40,
   "metadata": {},
   "outputs": [
    {
     "data": {
      "text/plain": [
       "7967687.0"
      ]
     },
     "execution_count": 40,
     "metadata": {},
     "output_type": "execute_result"
    }
   ],
   "source": [
    "np.sum(dis)"
   ]
  },
  {
   "cell_type": "code",
   "execution_count": 46,
   "metadata": {},
   "outputs": [
    {
     "data": {
      "text/plain": [
       "(256, 256)"
      ]
     },
     "execution_count": 46,
     "metadata": {},
     "output_type": "execute_result"
    }
   ],
   "source": [
    "dis.shape"
   ]
  },
  {
   "cell_type": "code",
   "execution_count": null,
   "metadata": {},
   "outputs": [],
   "source": []
  },
  {
   "cell_type": "code",
   "execution_count": null,
   "metadata": {},
   "outputs": [],
   "source": []
  },
  {
   "cell_type": "code",
   "execution_count": null,
   "metadata": {},
   "outputs": [],
   "source": []
  },
  {
   "cell_type": "code",
   "execution_count": null,
   "metadata": {},
   "outputs": [],
   "source": [
    "import statsmodels.api as sm\n",
    "xgrad=np.empty([count])\n",
    "ygrad=np.empty([count])\n",
    "zgrad=np.empty([count])\n",
    "import time\n",
    "start_time = time.time()\n",
    "model = sm.OLS(X, x)\n",
    "results = model.fit()\n",
    "xgrad=results.params\n",
    "model = sm.OLS(Y, y)\n",
    "results = model.fit()\n",
    "ygrad=results.params\n",
    "model = sm.OLS(Z, z)\n",
    "results = model.fit()\n",
    "zgrad=results.params\n",
    "print(\"--- %s seconds ---\" % (time.time() - start_time))"
   ]
  },
  {
   "cell_type": "code",
   "execution_count": null,
   "metadata": {},
   "outputs": [],
   "source": [
    "Xgen=np.sum(xgrad*x,axis=1)\n",
    "Ygen=np.sum(ygrad*y,axis=1)\n",
    "Zgen=np.sum(zgrad*z,axis=1)"
   ]
  },
  {
   "cell_type": "code",
   "execution_count": null,
   "metadata": {},
   "outputs": [],
   "source": []
  }
 ],
 "metadata": {
  "kernelspec": {
   "display_name": "Python 3",
   "language": "python",
   "name": "python3"
  },
  "language_info": {
   "codemirror_mode": {
    "name": "ipython",
    "version": 3
   },
   "file_extension": ".py",
   "mimetype": "text/x-python",
   "name": "python",
   "nbconvert_exporter": "python",
   "pygments_lexer": "ipython3",
   "version": "3.8.3"
  },
  "toc": {
   "base_numbering": 1,
   "nav_menu": {},
   "number_sections": true,
   "sideBar": true,
   "skip_h1_title": true,
   "title_cell": "Table of Contents",
   "title_sidebar": "Contents",
   "toc_cell": true,
   "toc_position": {},
   "toc_section_display": true,
   "toc_window_display": true
  }
 },
 "nbformat": 4,
 "nbformat_minor": 4
}
