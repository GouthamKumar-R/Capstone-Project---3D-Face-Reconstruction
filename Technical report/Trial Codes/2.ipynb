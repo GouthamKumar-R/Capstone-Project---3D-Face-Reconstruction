{
 "cells": [
  {
   "cell_type": "markdown",
   "metadata": {
    "toc": true
   },
   "source": [
    "<h1>Table of Contents<span class=\"tocSkip\"></span></h1>\n",
    "<div class=\"toc\"><ul class=\"toc-item\"></ul></div>"
   ]
  },
  {
   "cell_type": "code",
   "execution_count": null,
   "metadata": {},
   "outputs": [],
   "source": [
    "# Get the 3d x,y co-ordinates of image\n",
    "def threedxy(data):\n",
    "  #import necessary lib\n",
    "  import scipy.io\n",
    "  import matplotlib.pyplot as plt\n",
    "  from mpl_toolkits.mplot3d import Axes3D\n",
    "  import os\n",
    "  import time\n",
    "  import pandas as pd\n",
    "  import numpy as np\n",
    "\n",
    "  #reading the file\n",
    "  # data = scipy.io.loadmat(mfile)\n",
    "  X = data['shape'][0]\n",
    "  Y = data['shape'][1]\n",
    "  Z = data['shape'][2]\n",
    "\n",
    "  #taking x,y to a df\n",
    "  d = {\"X\":X, \"Y\":Y}\n",
    "  d = pd.DataFrame(d)\n",
    "  plt.scatter(d[\"X\"],d[\"Y\"])\n",
    "  plt.show();\n"
   ]
  },
  {
   "cell_type": "code",
   "execution_count": null,
   "metadata": {},
   "outputs": [],
   "source": [
    "#calling the fn\n",
    "from scipy import io\n",
    "mfile = io.loadmat('001__001-007_0.mat')\n",
    "\n",
    "threedxy(mfile)"
   ]
  }
 ],
 "metadata": {
  "kernelspec": {
   "display_name": "Python 3",
   "language": "python",
   "name": "python3"
  },
  "language_info": {
   "codemirror_mode": {
    "name": "ipython",
    "version": 3
   },
   "file_extension": ".py",
   "mimetype": "text/x-python",
   "name": "python",
   "nbconvert_exporter": "python",
   "pygments_lexer": "ipython3",
   "version": "3.8.3"
  },
  "toc": {
   "base_numbering": 1,
   "nav_menu": {},
   "number_sections": true,
   "sideBar": true,
   "skip_h1_title": true,
   "title_cell": "Table of Contents",
   "title_sidebar": "Contents",
   "toc_cell": true,
   "toc_position": {},
   "toc_section_display": true,
   "toc_window_display": true
  }
 },
 "nbformat": 4,
 "nbformat_minor": 4
}
