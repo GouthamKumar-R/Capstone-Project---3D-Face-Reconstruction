{
 "cells": [
  {
   "cell_type": "markdown",
   "metadata": {
    "toc": true
   },
   "source": [
    "<h1>Table of Contents<span class=\"tocSkip\"></span></h1>\n",
    "<div class=\"toc\"><ul class=\"toc-item\"></ul></div>"
   ]
  },
  {
   "cell_type": "code",
   "execution_count": null,
   "metadata": {},
   "outputs": [],
   "source": [
    "def Shape_formation(self, id_coeff, ex_coeff):\n",
    "  n_b = id_coeff.size(0)#We send only 1 image at a time,so n_b will always be 1\n",
    "\n",
    "  face_shape = torch.einsum('ij,aj->ai', self.idBase, id_coeff) + \\\n",
    "                torch.einsum('ij,aj->ai', self.exBase, ex_coeff) + self.meanshape\n",
    "\n",
    "  face_shape = face_shape.view(n_b, -1, 3)\n",
    "\n",
    "  return face_shape\n",
    "\n",
    "def Texture_formation(self, tex_coeff):\n",
    "  n_b = tex_coeff.size(0)\n",
    "  face_texture = torch.einsum('ij,aj->ai', self.texBase, tex_coeff) + self.meantex\n",
    "\n",
    "  face_texture = face_texture.view(n_b, -1, 3)\n",
    "  return face_texture"
   ]
  }
 ],
 "metadata": {
  "kernelspec": {
   "display_name": "Python 3",
   "language": "python",
   "name": "python3"
  },
  "language_info": {
   "codemirror_mode": {
    "name": "ipython",
    "version": 3
   },
   "file_extension": ".py",
   "mimetype": "text/x-python",
   "name": "python",
   "nbconvert_exporter": "python",
   "pygments_lexer": "ipython3",
   "version": "3.8.3"
  },
  "toc": {
   "base_numbering": 1,
   "nav_menu": {},
   "number_sections": true,
   "sideBar": true,
   "skip_h1_title": true,
   "title_cell": "Table of Contents",
   "title_sidebar": "Contents",
   "toc_cell": true,
   "toc_position": {},
   "toc_section_display": true,
   "toc_window_display": true
  }
 },
 "nbformat": 4,
 "nbformat_minor": 4
}
