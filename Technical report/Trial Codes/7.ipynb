{
 "cells": [
  {
   "cell_type": "markdown",
   "metadata": {
    "toc": true
   },
   "source": [
    "<h1>Table of Contents<span class=\"tocSkip\"></span></h1>\n",
    "<div class=\"toc\"><ul class=\"toc-item\"></ul></div>"
   ]
  },
  {
   "cell_type": "code",
   "execution_count": null,
   "metadata": {},
   "outputs": [],
   "source": [
    "import cv2\n",
    "orig_img = cv2.imread(\"data/000037.jpg\")[:, :, ::-1]\n",
    "io.imshow(orig_img)"
   ]
  },
  {
   "cell_type": "code",
   "execution_count": null,
   "metadata": {},
   "outputs": [],
   "source": [
    "#boundary box with some padding\n",
    "h, w = orig_img.shape[:2]\n",
    "img_wh = (w, h)\n",
    "padding_ratio =0.3\n",
    "bbox = [int(lms[:, 0].min()), int(lms[:, 1].min()), \n",
    "            int(lms[:, 0].max()), int(lms[:, 1].max())]\n",
    "x1, y1, x2, y2 = bbox\n",
    "print(\"bbox\")\n",
    "print(x1,y1,x2,y2)\n",
    "width = x2 - x1\n",
    "height = y2 - y1\n",
    "size_bbx = int(max(width, height) * (1+padding_ratio))\n",
    "# size_bb\n",
    "center_x, center_y = (x1 + x2) // 2, (y1 + y2) // 2\n",
    "# center_x, center_y\n",
    "x1 = max(int(center_x - size_bbx // 2), 0)\n",
    "y1 = max(int(center_y - size_bbx // 2), 0)\n",
    "print(x1, y1)\n",
    "\n",
    "size_bbx = min(img_wh[0] - x1, size_bbx)\n",
    "size_bbx = min(img_wh[1] - y1, size_bbx)\n",
    "print(size_bbx)\n",
    "\n",
    "padded_bbox = [x1, y1, x1+size_bbx, y1+size_bbx]\n",
    "print(\"pad_box\",padded_bbox)\n",
    "l, t, r, b = padded_bbox\n",
    "cropped_img = orig_img[t:b, l:r, :]\n",
    "crop_size = cropped_img.shape[0]\n",
    "crop_size"
   ]
  },
  {
   "cell_type": "code",
   "execution_count": null,
   "metadata": {},
   "outputs": [],
   "source": [
    "io.imshow(cropped_img)"
   ]
  },
  {
   "cell_type": "code",
   "execution_count": null,
   "metadata": {},
   "outputs": [],
   "source": [
    "#resizing the image\n",
    "TAR_SIZE = 256\n",
    "scale = TAR_SIZE / float(crop_size)\n",
    "cropped_img = cv2.resize(cropped_img, (TAR_SIZE, TAR_SIZE))\n",
    "io.imshow(cropped_img) #256*256"
   ]
  }
 ],
 "metadata": {
  "kernelspec": {
   "display_name": "Python 3",
   "language": "python",
   "name": "python3"
  },
  "language_info": {
   "codemirror_mode": {
    "name": "ipython",
    "version": 3
   },
   "file_extension": ".py",
   "mimetype": "text/x-python",
   "name": "python",
   "nbconvert_exporter": "python",
   "pygments_lexer": "ipython3",
   "version": "3.8.3"
  },
  "toc": {
   "base_numbering": 1,
   "nav_menu": {},
   "number_sections": true,
   "sideBar": true,
   "skip_h1_title": true,
   "title_cell": "Table of Contents",
   "title_sidebar": "Contents",
   "toc_cell": true,
   "toc_position": {},
   "toc_section_display": true,
   "toc_window_display": true
  }
 },
 "nbformat": 4,
 "nbformat_minor": 4
}
