{
 "cells": [
  {
   "cell_type": "markdown",
   "metadata": {
    "toc": true
   },
   "source": [
    "<h1>Table of Contents<span class=\"tocSkip\"></span></h1>\n",
    "<div class=\"toc\"><ul class=\"toc-item\"></ul></div>"
   ]
  },
  {
   "cell_type": "code",
   "execution_count": null,
   "metadata": {},
   "outputs": [],
   "source": [
    "print('start non-rigid fitting')\n",
    "\tnonrigid_optimizer = torch.optim.Adam([id_tensor, tex_tensor,\n",
    "\t\t\t\t\t\t\t\t\t\texp_tensor, rot_tensor,\n",
    "\t\t\t\t\t\t\t\t\t\tgamma_tensor, trans_tensor], lr=0.01)\n",
    "\tfor i in range(200):\n",
    "\t\tnonrigid_optimizer.zero_grad()\n",
    "\t\tcoeff = torch.cat([id_tensor, exp_tensor,\n",
    "\t\t\t\t\t\ttex_tensor, rot_tensor,\n",
    "\t\t\t\t\t\tgamma_tensor, trans_tensor], dim=1)\n",
    "\t\trendered_img, pred_lms, face_texture, _ = model(coeff)\n",
    "\t\tmask = rendered_img[:, :, :, 3].detach()\n",
    "\t\tphoto_loss_val = photo_loss(rendered_img[:, :, :, :3], img_tensor, mask>0)\n",
    "\t\tlm_loss_val = lm_loss(pred_lms, lms, img_size=TAR_SIZE)\n",
    "\t\treg_loss_val = reg_loss(id_tensor, exp_tensor, tex_tensor)\n",
    "\t\ttex_loss_val = reflectance_loss(face_texture, skinmask)\n",
    "\t\tloss = photo_loss_val*NRF_PHOTO_LOSS_W + \\\n",
    "\t\t\t\t\t\tlm_loss_val*NRF_LM_LOSS_W + \\\n",
    "\t\t\t\t\t\treg_loss_val*NRF_REG_W + \\\n",
    "\t\t\t\t\t\ttex_loss_val*NRF_TEX_LOSS_W\n",
    "\t\tloss.backward()\n",
    "\t\tnonrigid_optimizer.step()"
   ]
  }
 ],
 "metadata": {
  "kernelspec": {
   "display_name": "Python 3",
   "language": "python",
   "name": "python3"
  },
  "language_info": {
   "codemirror_mode": {
    "name": "ipython",
    "version": 3
   },
   "file_extension": ".py",
   "mimetype": "text/x-python",
   "name": "python",
   "nbconvert_exporter": "python",
   "pygments_lexer": "ipython3",
   "version": "3.8.3"
  },
  "toc": {
   "base_numbering": 1,
   "nav_menu": {},
   "number_sections": true,
   "sideBar": true,
   "skip_h1_title": true,
   "title_cell": "Table of Contents",
   "title_sidebar": "Contents",
   "toc_cell": true,
   "toc_position": {},
   "toc_section_display": true,
   "toc_window_display": true
  }
 },
 "nbformat": 4,
 "nbformat_minor": 4
}
